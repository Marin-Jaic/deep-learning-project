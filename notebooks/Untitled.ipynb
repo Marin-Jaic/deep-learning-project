{
 "cells": [
  {
   "cell_type": "code",
   "execution_count": 3,
   "id": "e5da2541-5d18-4768-a387-69726951e3e1",
   "metadata": {},
   "outputs": [],
   "source": [
    "import lcdb"
   ]
  },
  {
   "cell_type": "code",
   "execution_count": null,
   "id": "e76546a6-5c20-4d7d-ac1a-4fa4766c2fdd",
   "metadata": {},
   "outputs": [],
   "source": []
  }
 ],
 "metadata": {
  "kernelspec": {
   "display_name": "Python (lenv)",
   "language": "python",
   "name": "lenv"
  },
  "language_info": {
   "codemirror_mode": {
    "name": "ipython",
    "version": 3
   },
   "file_extension": ".py",
   "mimetype": "text/x-python",
   "name": "python",
   "nbconvert_exporter": "python",
   "pygments_lexer": "ipython3",
   "version": "3.9.19"
  }
 },
 "nbformat": 4,
 "nbformat_minor": 5
}
