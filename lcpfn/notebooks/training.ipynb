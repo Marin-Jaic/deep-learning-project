{
 "cells": [
  {
   "cell_type": "code",
   "execution_count": 3,
   "id": "97c21741-fc4a-4116-99ce-e400a17d3727",
   "metadata": {},
   "outputs": [
    {
     "name": "stdout",
     "output_type": "stream",
     "text": [
      "The autoreload extension is already loaded. To reload it, use:\n",
      "  %reload_ext autoreload\n"
     ]
    }
   ],
   "source": [
    "%load_ext autoreload\n",
    "%autoreload 2"
   ]
  },
  {
   "cell_type": "code",
   "execution_count": 4,
   "id": "028b0665-850b-4add-bd8a-fffea70cc9bc",
   "metadata": {},
   "outputs": [],
   "source": [
    "%cd -q .."
   ]
  },
  {
   "cell_type": "code",
   "execution_count": 7,
   "id": "b816ca61-893f-47fc-8b2c-5730ef41199d",
   "metadata": {
    "pycharm": {
     "is_executing": true
    }
   },
   "outputs": [],
   "source": [
    "import lcpfn \n",
    "import numpy as np\n",
    "from matplotlib import pyplot as plt"
   ]
  },
  {
   "cell_type": "markdown",
   "id": "d8cabdf7-ab64-492e-a0c8-7d1ef8f49f95",
   "metadata": {},
   "source": [
    "## Generate samples from LC prior"
   ]
  },
  {
   "cell_type": "code",
   "execution_count": 8,
   "id": "c0218450-7968-44db-8a4a-a25b6a02dfb7",
   "metadata": {},
   "outputs": [
    {
     "ename": "AttributeError",
     "evalue": "module 'lcpfn' has no attribute 'sample_from_prior'",
     "output_type": "error",
     "traceback": [
      "\u001b[1;31m---------------------------------------------------------------------------\u001b[0m",
      "\u001b[1;31mAttributeError\u001b[0m                            Traceback (most recent call last)",
      "Cell \u001b[1;32mIn[8], line 2\u001b[0m\n\u001b[0;32m      1\u001b[0m \u001b[38;5;28;01mfor\u001b[39;00m _ \u001b[38;5;129;01min\u001b[39;00m \u001b[38;5;28mrange\u001b[39m(\u001b[38;5;241m50\u001b[39m):\n\u001b[1;32m----> 2\u001b[0m     prior \u001b[38;5;241m=\u001b[39m \u001b[43mlcpfn\u001b[49m\u001b[38;5;241;43m.\u001b[39;49m\u001b[43msample_from_prior\u001b[49m(np\u001b[38;5;241m.\u001b[39mrandom)\n\u001b[0;32m      3\u001b[0m     curve, _ \u001b[38;5;241m=\u001b[39m prior()\n\u001b[0;32m      4\u001b[0m     plt\u001b[38;5;241m.\u001b[39mplot(curve, \u001b[38;5;124m\"\u001b[39m\u001b[38;5;124mblack\u001b[39m\u001b[38;5;124m\"\u001b[39m, alpha\u001b[38;5;241m=\u001b[39m\u001b[38;5;241m0.1\u001b[39m)\n",
      "\u001b[1;31mAttributeError\u001b[0m: module 'lcpfn' has no attribute 'sample_from_prior'"
     ]
    }
   ],
   "source": [
    "for _ in range(50):\n",
    "    prior = lcpfn.sample_from_prior(np.random)\n",
    "    curve, _ = prior()\n",
    "    plt.plot(curve, \"black\", alpha=0.1)\n",
    "plt.ylim(0, 1)"
   ]
  },
  {
   "cell_type": "markdown",
   "id": "685552b1-94b2-428a-bca2-66690f3090d2",
   "metadata": {},
   "source": [
    "## Train a PFN model with the previous learning curve prior"
   ]
  },
  {
   "cell_type": "code",
   "execution_count": 17,
   "id": "48b1c249-d9cc-4543-bbd3-c0cf410263c3",
   "metadata": {},
   "outputs": [
    {
     "ename": "AttributeError",
     "evalue": "module 'lcpfn' has no attribute 'create_get_batch_func'",
     "output_type": "error",
     "traceback": [
      "\u001b[1;31m---------------------------------------------------------------------------\u001b[0m",
      "\u001b[1;31mAttributeError\u001b[0m                            Traceback (most recent call last)",
      "Cell \u001b[1;32mIn[17], line 1\u001b[0m\n\u001b[1;32m----> 1\u001b[0m get_batch_func \u001b[38;5;241m=\u001b[39m \u001b[43mlcpfn\u001b[49m\u001b[38;5;241;43m.\u001b[39;49m\u001b[43mcreate_get_batch_func\u001b[49m(prior\u001b[38;5;241m=\u001b[39mlcpfn\u001b[38;5;241m.\u001b[39msample_from_prior)\n",
      "\u001b[1;31mAttributeError\u001b[0m: module 'lcpfn' has no attribute 'create_get_batch_func'"
     ]
    }
   ],
   "source": [
    "get_batch_func = lcpfn.create_get_batch_func(prior=lcpfn.sample_from_prior)"
   ]
  },
  {
   "cell_type": "code",
   "execution_count": 6,
   "id": "386dcfc8-d92a-4b78-8881-b68da4b1e9c5",
   "metadata": {},
   "outputs": [
    {
     "name": "stdout",
     "output_type": "stream",
     "text": [
      "torch.Size([100, 100, 1]) torch.Size([100, 100]) torch.Size([100, 100])\n"
     ]
    }
   ],
   "source": [
    "# example of a batch\n",
    "\n",
    "X, Y, Y_noisy = get_batch_func(batch_size=100, seq_len=100, num_features=1)\n",
    "print(X.shape, Y.shape, Y_noisy.shape)"
   ]
  },
  {
   "cell_type": "code",
   "execution_count": 7,
   "id": "091def9b-dd4c-4e7d-8550-5dc016bc3893",
   "metadata": {},
   "outputs": [
    {
     "data": {
      "text/plain": [
       "<function lcpfn.train_lcpfn.train_lcpfn(get_batch_func, seq_len: int = 100, emsize: int = 512, nlayers: int = 12, num_borders: int = 1000, lr: float = 0.001, batch_size: int = 100, epochs: int = 1000)>"
      ]
     },
     "execution_count": 7,
     "metadata": {},
     "output_type": "execute_result"
    }
   ],
   "source": [
    "# Main function to train a PFN model\n",
    "\n",
    "lcpfn.train_lcpfn"
   ]
  },
  {
   "cell_type": "code",
   "execution_count": 8,
   "id": "c18b2d21-1819-425a-aeba-9b3871f5900a",
   "metadata": {},
   "outputs": [
    {
     "name": "stdout",
     "output_type": "stream",
     "text": [
      "Using 1000000 y evals to estimate 1000 buckets. Cut off the last 0 ys.\n",
      "Using cpu:0 device\n",
      "init dist\n",
      "Not using distributed\n",
      "DataLoader.__dict__ {'num_steps': 100, 'get_batch_kwargs': {'batch_size': 10, 'eval_pos_seq_len_sampler': <function train.<locals>.eval_pos_seq_len_sampler at 0x000001DCF7CA1DC0>, 'seq_len_maximum': 100, 'device': 'cpu:0', 'num_features': 1, 'hyperparameters': {}}, 'num_features': 1}\n",
      "Style definition: None\n",
      "Using a Transformer with 2.23 M parameters\n"
     ]
    },
    {
     "name": "stderr",
     "output_type": "stream",
     "text": [
      "C:\\Users\\remil\\anaconda3\\envs\\lcpfn\\lib\\site-packages\\torch\\autocast_mode.py:162: UserWarning: User provided device_type of 'cuda', but CUDA is not available. Disabling\n",
      "  warnings.warn('User provided device_type of \\'cuda\\', but CUDA is not available. Disabling')\n",
      "C:\\Users\\remil\\Documents\\Repo\\lcpfn\\lcpfn\\bar_distribution.py:22: UserWarning: torch.searchsorted(): input value tensor is non-contiguous, this will lower the performance due to extra data copy when converting non-contiguous tensor to contiguous, please use contiguous input value tensor if possible. This message will only appear once per program. (Triggered internally at  C:\\actions-runner\\_work\\pytorch\\pytorch\\builder\\windows\\pytorch\\aten\\src\\ATen/native/BucketizationUtils.h:28.)\n",
      "  target_sample = torch.searchsorted(self.borders, y) - 1\n"
     ]
    },
    {
     "name": "stdout",
     "output_type": "stream",
     "text": [
      "-----------------------------------------------------------------------------------------\n",
      "| end of epoch   1 | time: 37.66s | mean loss -0.61 | pos losses   nan,  nan,-0.20,-0.56,-0.49,-0.14,  nan,-0.46,-0.66,  nan,  nan,-0.12,-0.31,  nan,-0.26,-0.03,-0.44,-0.87,  nan,-0.45,  nan,-0.40,-0.60,-1.08,-0.39,-0.39,  nan,-0.81,  nan,-0.83,-0.93,-0.69,-0.58,  nan,  nan,-0.07,  nan,-0.59,-1.04,  nan,  nan,-1.16,-0.27,  nan,  nan,-1.20,  nan, 0.12,-0.73,-0.79,-0.81,-0.76,-0.94,  nan,-0.40,  nan,-0.89,  nan,-0.67,  nan,-0.80,-0.84,  nan,-0.71,-0.99,  nan,-0.67,-0.57,-0.55,-0.70,-1.05,-0.78,-1.06,  nan,-0.72,-0.79,  nan,  nan,-0.10,-0.36,-0.72,  nan,-0.73, 0.21,-0.05,-0.57,-1.18,-0.10,  nan,-0.80,  nan,  nan,  nan,-1.05,  nan,-0.74,  nan,-0.53, 0.31,  nan, lr 0.001 data time  0.00 step time  0.37 forward time  0.16\n",
      "-----------------------------------------------------------------------------------------\n",
      "-----------------------------------------------------------------------------------------\n",
      "| end of epoch   2 | time: 40.78s | mean loss -0.99 | pos losses   nan, 0.54,  nan,  nan,-0.81,  nan,-0.34,-0.38,-0.42,-1.21,-1.10,-0.93,-1.13,-1.00,  nan,  nan,  nan,  nan,-1.00,  nan,-0.68,-0.96,-1.15,-1.03,  nan,-0.84,-0.11,  nan,-1.12,  nan,  nan,-0.89,-1.11,-1.47,-1.10,  nan,  nan,  nan,-0.86,-1.08,-1.11,-1.11,-1.01,-1.09,-1.16,-1.17,-1.17,-1.03,  nan,-1.39,  nan,  nan,-1.05,-0.64,-1.22,  nan,-1.18,-1.12,-0.87,  nan,  nan,-0.98,  nan,-1.07,  nan,-1.19,-0.95,-1.15,-1.14,  nan,  nan,-1.15,  nan,-1.52,-1.03,-1.15,  nan,-1.05,-0.98,-1.42,  nan,-0.13,-1.04,-0.75,  nan,  nan,-1.21,  nan,-1.13,-1.32,-1.51,  nan,-1.33,  nan,-1.09,  nan,-0.76,-0.61,  nan,-0.91, lr 0.00075 data time  0.01 step time  0.37 forward time  0.16\n",
      "-----------------------------------------------------------------------------------------\n",
      "-----------------------------------------------------------------------------------------\n",
      "| end of epoch   3 | time: 39.94s | mean loss -1.28 | pos losses   nan, 0.22,  nan,-0.72,-0.31,  nan,  nan,  nan,-1.11,-0.74,-1.44,-0.89,-1.31,-1.49,  nan,-1.06,-1.37,-0.78,-1.64,  nan,-1.33,-1.15,-1.35,-1.32,-1.22,-1.05,  nan,-1.53,  nan,  nan,  nan,-1.44,-1.56,  nan,-1.31,-1.42,-1.54,-1.33,-0.99,  nan,-1.40,-1.36,-1.28,  nan,-1.70,-1.48,  nan,-1.61,-1.29,-1.33,-1.59,-1.32,  nan,  nan,-1.58,-1.33,-1.34,  nan,-1.35,  nan,-0.98,  nan,-1.61,-1.43,-1.48,  nan,-1.34,-1.52,-1.58,-1.07,-1.51,-1.41,-1.19,-1.48,-1.41,-1.34,-1.42,  nan,  nan,  nan,-1.41,-1.18,-1.22,  nan,-1.51,-1.67,-1.35,  nan,  nan,-1.25,  nan,  nan,-1.48,-1.64,  nan,  nan,-1.21,-1.58,-1.59,-1.20, lr 0.0002500000000000001 data time  0.01 step time  0.34 forward time  0.16\n",
      "-----------------------------------------------------------------------------------------\n"
     ]
    }
   ],
   "source": [
    "# train a small model for 3 epochs\n",
    "\n",
    "result = lcpfn.train_lcpfn(get_batch_func=get_batch_func, \n",
    "                          seq_len=100,\n",
    "                         emsize=256,\n",
    "                         nlayers=3,\n",
    "                         num_borders=1000,\n",
    "                         lr=0.001,\n",
    "                         batch_size=10,\n",
    "                         epochs=3)"
   ]
  },
  {
   "cell_type": "code",
   "execution_count": 9,
   "id": "4584f7a0-b5d9-4623-a7bd-987da27558aa",
   "metadata": {},
   "outputs": [
    {
     "name": "stdout",
     "output_type": "stream",
     "text": [
      "TransformerModel(\n",
      "  (transformer_encoder): TransformerEncoder(\n",
      "    (layers): ModuleList(\n",
      "      (0): TransformerEncoderLayer(\n",
      "        (self_attn): MultiheadAttention(\n",
      "          (out_proj): NonDynamicallyQuantizableLinear(in_features=256, out_features=256, bias=True)\n",
      "        )\n",
      "        (linear1): Linear(in_features=256, out_features=512, bias=True)\n",
      "        (dropout): Dropout(p=0.2, inplace=False)\n",
      "        (linear2): Linear(in_features=512, out_features=256, bias=True)\n",
      "        (norm1): LayerNorm((256,), eps=1e-05, elementwise_affine=True)\n",
      "        (norm2): LayerNorm((256,), eps=1e-05, elementwise_affine=True)\n",
      "        (dropout1): Dropout(p=0.2, inplace=False)\n",
      "        (dropout2): Dropout(p=0.2, inplace=False)\n",
      "      )\n",
      "      (1): TransformerEncoderLayer(\n",
      "        (self_attn): MultiheadAttention(\n",
      "          (out_proj): NonDynamicallyQuantizableLinear(in_features=256, out_features=256, bias=True)\n",
      "        )\n",
      "        (linear1): Linear(in_features=256, out_features=512, bias=True)\n",
      "        (dropout): Dropout(p=0.2, inplace=False)\n",
      "        (linear2): Linear(in_features=512, out_features=256, bias=True)\n",
      "        (norm1): LayerNorm((256,), eps=1e-05, elementwise_affine=True)\n",
      "        (norm2): LayerNorm((256,), eps=1e-05, elementwise_affine=True)\n",
      "        (dropout1): Dropout(p=0.2, inplace=False)\n",
      "        (dropout2): Dropout(p=0.2, inplace=False)\n",
      "      )\n",
      "      (2): TransformerEncoderLayer(\n",
      "        (self_attn): MultiheadAttention(\n",
      "          (out_proj): NonDynamicallyQuantizableLinear(in_features=256, out_features=256, bias=True)\n",
      "        )\n",
      "        (linear1): Linear(in_features=256, out_features=512, bias=True)\n",
      "        (dropout): Dropout(p=0.2, inplace=False)\n",
      "        (linear2): Linear(in_features=512, out_features=256, bias=True)\n",
      "        (norm1): LayerNorm((256,), eps=1e-05, elementwise_affine=True)\n",
      "        (norm2): LayerNorm((256,), eps=1e-05, elementwise_affine=True)\n",
      "        (dropout1): Dropout(p=0.2, inplace=False)\n",
      "        (dropout2): Dropout(p=0.2, inplace=False)\n",
      "      )\n",
      "    )\n",
      "  )\n",
      "  (encoder): Sequential(\n",
      "    (0): Normalize()\n",
      "    (1): Normalize()\n",
      "    (2): Linear(in_features=1, out_features=256, bias=True)\n",
      "  )\n",
      "  (y_encoder): Sequential(\n",
      "    (0): Normalize()\n",
      "    (1): Linear(in_features=1, out_features=256, bias=True)\n",
      "  )\n",
      "  (pos_encoder): NoPositionalEncoding()\n",
      "  (decoder): Sequential(\n",
      "    (0): Linear(in_features=256, out_features=512, bias=True)\n",
      "    (1): GELU()\n",
      "    (2): Linear(in_features=512, out_features=1000, bias=True)\n",
      "  )\n",
      "  (criterion): FullSupportBarDistribution()\n",
      ")\n"
     ]
    }
   ],
   "source": [
    "# Get the trained model\n",
    "\n",
    "model = result[2]\n",
    "print(model)"
   ]
  },
  {
   "cell_type": "code",
   "execution_count": null,
   "id": "b5368023-3315-4d48-a431-c7a44d0f076b",
   "metadata": {},
   "outputs": [],
   "source": []
  }
 ],
 "metadata": {
  "kernelspec": {
   "display_name": "Python 3 (ipykernel)",
   "language": "python",
   "name": "python3"
  },
  "language_info": {
   "codemirror_mode": {
    "name": "ipython",
    "version": 3
   },
   "file_extension": ".py",
   "mimetype": "text/x-python",
   "name": "python",
   "nbconvert_exporter": "python",
   "pygments_lexer": "ipython3",
   "version": "3.9.19"
  }
 },
 "nbformat": 4,
 "nbformat_minor": 5
}
