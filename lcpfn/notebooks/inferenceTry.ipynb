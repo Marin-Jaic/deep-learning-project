{
 "cells": [
  {
   "cell_type": "code",
   "execution_count": 1,
   "id": "718131ff-a3f1-4e41-918b-57ed59ce5af3",
   "metadata": {},
   "outputs": [],
   "source": [
    "%load_ext autoreload\n",
    "%autoreload 2"
   ]
  },
  {
   "cell_type": "code",
   "execution_count": 2,
   "id": "ae91ba35-9239-4dce-b767-0264c8e4809b",
   "metadata": {},
   "outputs": [
    {
     "name": "stderr",
     "output_type": "stream",
     "text": [
      "C:\\Users\\remil\\.conda\\envs\\lcpfn\\lib\\site-packages\\IPython\\core\\magics\\osm.py:417: UserWarning: using dhist requires you to install the `pickleshare` library.\n",
      "  self.shell.db['dhist'] = compress_dhist(dhist)[-100:]\n"
     ]
    }
   ],
   "source": [
    "%cd -q .."
   ]
  },
  {
   "cell_type": "code",
   "execution_count": 3,
   "id": "2d627399-e989-432e-b12f-f5aa1b62dae6",
   "metadata": {},
   "outputs": [],
   "source": [
    "import lcpfn \n",
    "import torch\n",
    "import numpy as np\n",
    "from matplotlib import pyplot as plt\n",
    "import torch\n",
    "import torch.nn as nn\n",
    "import torch.nn.functional as F\n",
    "import math\n",
    "\n",
    "import torch\n",
    "from torch.utils.data import TensorDataset, DataLoader\n"
   ]
  },
  {
   "cell_type": "code",
   "execution_count": null,
   "id": "a1bf4202",
   "metadata": {
    "pycharm": {
     "is_executing": true
    }
   },
   "outputs": [
    {
     "name": "stdout",
     "output_type": "stream",
     "text": [
      "Using device: cuda\n",
      "Epoch 0, Loss: 62.49133298620582\n",
      "Epoch 1, Loss: 5.066663725674152\n",
      "Epoch 2, Loss: 4.972825993224978\n",
      "Epoch 3, Loss: 4.951228960230947\n",
      "Epoch 4, Loss: 4.959078747406602\n",
      "Epoch 5, Loss: 4.910053250938654\n",
      "Epoch 6, Loss: 4.902867832221091\n",
      "Epoch 7, Loss: 4.879206592403352\n",
      "Epoch 8, Loss: 4.86512132845819\n",
      "Epoch 9, Loss: 4.854196738451719\n"
     ]
    }
   ],
   "source": [
    "# curve data is 100 points\n",
    "# split data into 50 and 50\n",
    "# given first 50 points predict next 50 points\n",
    "input_length = 15  # Num input elements\n",
    "target_length = 100  # Num target elements\n",
    "\n",
    "# get data (100 curves)\n",
    "# Y seems to be the true curve data, X is just indecies???\n",
    "get_batch_func = lcpfn.create_get_batch_func(prior=lcpfn.sample_from_prior)\n",
    "X, Y, Y_noisy = get_batch_func(batch_size=100, seq_len=100, num_features=1)\n",
    "Y = Y.permute(1, 0)\n",
    "\n",
    "# Splitting data into input and target\n",
    "# input given to transformer who's output is compared to target\n",
    "inputs = Y[:, :input_length]\n",
    "targets = Y[:, input_length:]\n",
    "\n",
    "#load data\n",
    "# dataset = TensorDataset(inputs, targets)\n",
    "dataset = TensorDataset(Y, Y)\n",
    "\n",
    "data_loader = DataLoader(\n",
    "    dataset, batch_size=10, shuffle=False\n",
    ")\n",
    "\n",
    "# not already implemented by torch\n",
    "# encodes positional data of order the tokens are in the sequence\n",
    "class PositionalEncoding(nn.Module):\n",
    "    def __init__(self, d_model, max_len=5000):\n",
    "        super(PositionalEncoding, self).__init__()\n",
    "        pe = torch.zeros(max_len, d_model)\n",
    "        position = torch.arange(0, max_len, dtype=torch.float).unsqueeze(1)\n",
    "        div_term = torch.exp(\n",
    "            torch.arange(0, d_model, 2).float() * (-math.log(10000.0) / d_model)\n",
    "        )\n",
    "        pe[:, 0::2] = torch.sin(position * div_term)\n",
    "        pe[:, 1::2] = torch.cos(position * div_term)\n",
    "        pe = pe.unsqueeze(0).transpose(0, 1)\n",
    "        self.register_buffer(\"pe\", pe)\n",
    "\n",
    "    def forward(self, x):\n",
    "        x = x + self.pe[: x.size(0), :]\n",
    "        return x\n",
    "\n",
    "\n",
    "class TransformerModel(nn.Module):\n",
    "    def __init__(self, input_dim, model_dim, num_heads, num_layers, dim_feedforward):\n",
    "        super(TransformerModel, self).__init__()\n",
    "        self.model_dim = model_dim\n",
    "        self.pos_encoder = PositionalEncoding(model_dim)\n",
    "        encoder_layers = nn.TransformerEncoderLayer(\n",
    "            d_model=model_dim, nhead=num_heads, dim_feedforward=dim_feedforward\n",
    "        )\n",
    "        self.transformer_encoder = nn.TransformerEncoder(\n",
    "            encoder_layers, num_layers=num_layers\n",
    "        )\n",
    "        self.encoder = nn.Linear(input_dim, model_dim)\n",
    "        self.decoder = nn.Linear(model_dim, 1)\n",
    "        self.init_weights()\n",
    "\n",
    "    def init_weights(self):\n",
    "        initrange = 0.1\n",
    "        self.encoder.weight.data.uniform_(-initrange, initrange)\n",
    "        self.decoder.weight.data.uniform_(-initrange, initrange)\n",
    "\n",
    "    def forward(self, src):\n",
    "        src = self.encoder(src) * math.sqrt(self.model_dim)\n",
    "        src = self.pos_encoder(src)\n",
    "        output = self.transformer_encoder(src)\n",
    "        # Use the representation of the last position\n",
    "        output = output[:, -1, :]\n",
    "        output = self.decoder(output)\n",
    "        # output = torch.sigmoid(output)\n",
    "        return output.squeeze(-1)  # Optionally remove the last dimension for a cleaner output shape\n",
    "\n",
    "device = torch.device(\"cuda\" if torch.cuda.is_available() else \"cpu\")\n",
    "# device = torch.device(\"cpu\")\n",
    "print(f\"Using device: {device}\")\n",
    "\n",
    "model = TransformerModel(\n",
    "    input_dim=1,\n",
    "    model_dim=512,\n",
    "    num_heads=8,\n",
    "    num_layers=6,\n",
    "    dim_feedforward=2048,\n",
    ").to(device)\n",
    "criterion = torch.nn.MSELoss()\n",
    "optimizer = torch.optim.Adam(model.parameters(), lr=0.001)\n",
    "\n",
    "# Assuming a model architecture that outputs a single value at a time.\n",
    "for epoch in range(100):\n",
    "    model.train()\n",
    "    total_loss = 0\n",
    "    for input_sequence, target_sequence in data_loader:\n",
    "        input_sequence, target_sequence = input_sequence.to(device), target_sequence.to(device)\n",
    "\n",
    "        input_sequence = input_sequence.unsqueeze(-1)  # [batch_size, input_length, features]\n",
    "\n",
    "        for i in range(target_length - 1):\n",
    "\n",
    "            current_input = input_sequence[:,:i + 1]\n",
    "\n",
    "            prediction = model(current_input)\n",
    "\n",
    "            optimizer.zero_grad()\n",
    "            loss = criterion(prediction, target_sequence[:, i + 1].unsqueeze(-1))\n",
    "            loss.backward()  # Perform backward pass and accumulate gradients\n",
    "            optimizer.step()  # Update model parameters\n",
    "\n",
    "            total_loss += loss.item()\n",
    "\n",
    "        # step_loss.backward()\n",
    "        # optimizer.step()\n",
    "        # total_loss += step_loss.item()\n",
    "\n",
    "    print(f\"Epoch {epoch}, Loss: {total_loss / len(data_loader)}\")"
   ]
  },
  {
   "cell_type": "markdown",
   "id": "d6dc8df6-5267-4888-bc5a-e5e942331b79",
   "metadata": {},
   "source": [
    "## Load trained LC-PFN model"
   ]
  },
  {
   "cell_type": "code",
   "execution_count": 21,
   "id": "e4188fdb-4a1e-4508-9530-8d2448e238cb",
   "metadata": {
    "pycharm": {
     "is_executing": true
    }
   },
   "outputs": [],
   "source": [
    "model = lcpfn.LCPFN()"
   ]
  },
  {
   "cell_type": "markdown",
   "id": "03d80175-5f10-404a-85ce-59505f043691",
   "metadata": {},
   "source": [
    "## Generate a learning curve from the prior"
   ]
  },
  {
   "cell_type": "code",
   "execution_count": 22,
   "id": "414fe267",
   "metadata": {
    "collapsed": false,
    "jupyter": {
     "outputs_hidden": false
    }
   },
   "outputs": [
    {
     "name": "stdout",
     "output_type": "stream",
     "text": [
      "test\n"
     ]
    }
   ],
   "source": [
    "print(\"test\")"
   ]
  },
  {
   "cell_type": "code",
   "execution_count": 30,
   "id": "fafc60aa-0681-494f-9be3-09b40e1495ad",
   "metadata": {},
   "outputs": [
    {
     "data": {
      "text/plain": "(0.0, 1.0)"
     },
     "execution_count": 30,
     "metadata": {},
     "output_type": "execute_result"
    },
    {
     "data": {
      "text/plain": "<Figure size 640x480 with 1 Axes>",
      "image/png": "[encoded data removed]"
     },
     "metadata": {},
     "output_type": "display_data"
    }
   ],
   "source": [
    "prior = lcpfn.sample_from_prior(np.random)\n",
    "curve, _ = prior()\n",
    "plt.plot(curve, \"black\")\n",
    "plt.ylim(0, 1)"
   ]
  },
  {
   "cell_type": "markdown",
   "id": "18d1ceef-30a8-47c7-9754-ed7bf194cd37",
   "metadata": {},
   "source": [
    "## Extrapolate the learning curve with a cutoff of 10%"
   ]
  },
  {
   "cell_type": "code",
   "execution_count": 20,
   "outputs": [
    {
     "name": "stdout",
     "output_type": "stream",
     "text": [
      "[0.41764839 0.52130498 0.55571251 0.5729553  0.58333795 0.59028288\n",
      " 0.59525629 0.5989923  0.60189971 0.60422455 0.60612389 0.6077028\n",
      " 0.60903429 0.61017068 0.6111505  0.61200271 0.61274956 0.61340839\n",
      " 0.61399294 0.61451425 0.61498125 0.61540128 0.61578044 0.61612379\n",
      " 0.61643561 0.61671953 0.61697865 0.61721562 0.61743274 0.617632\n",
      " 0.61781513 0.61798367 0.61813895 0.61828216 0.61841434 0.61853643\n",
      " 0.61864927 0.61875359 0.61885008 0.61893933 0.61902189 0.61909825\n",
      " 0.61916886 0.61923413 0.61929443 0.61935009 0.61940144 0.61944874\n",
      " 0.61949226 0.61953225 0.61956892 0.61960247 0.6196331  0.61966098\n",
      " 0.61968627 0.61970912 0.61972966 0.61974804 0.61976436 0.61977875\n",
      " 0.61979131 0.61980213 0.6198113  0.61981892 0.61982507 0.61982981\n",
      " 0.61983322 0.61983537 0.61983631 0.61983612 0.61983483 0.61983252\n",
      " 0.61982922 0.61982498 0.61981984 0.61981386 0.61980706 0.61979948\n",
      " 0.61979117 0.61978215 0.61977245 0.61976211 0.61975116 0.61973961\n",
      " 0.61972751 0.61971486 0.6197017  0.61968804 0.61967392 0.61965934\n",
      " 0.61964433 0.61962891 0.61961309 0.6195969  0.61958034 0.61956343\n",
      " 0.61954618 0.61952862 0.61951075 0.61949259]\n"
     ]
    }
   ],
   "source": [
    "print(curve)"
   ],
   "metadata": {
    "collapsed": false
   }
  },
  {
   "cell_type": "code",
   "execution_count": 31,
   "id": "3610482a-5e21-4109-a3b3-16d937e26cd9",
   "metadata": {},
   "outputs": [],
   "source": [
    "# construct \n",
    "\n",
    "x = torch.arange(1, 101).unsqueeze(1)\n",
    "y = torch.from_numpy(curve).float().unsqueeze(1)\n",
    "cutoff = 10"
   ]
  },
  {
   "cell_type": "code",
   "execution_count": 50,
   "outputs": [
    {
     "name": "stdout",
     "output_type": "stream",
     "text": [
      "Predicted Value: tensor([[[0.6085]]], device='cuda:0')\n",
      "torch.Size([1, 15, 1])\n",
      "torch.Size([1, 1, 1])\n",
      "tensor([[[0.1755],\n",
      "         [0.2751],\n",
      "         [0.3103],\n",
      "         [0.3280],\n",
      "         [0.3384],\n",
      "         [0.3453],\n",
      "         [0.3502],\n",
      "         [0.3540],\n",
      "         [0.3570],\n",
      "         [0.3595],\n",
      "         [0.3616],\n",
      "         [0.3633],\n",
      "         [0.3649],\n",
      "         [0.3663],\n",
      "         [0.3675],\n",
      "         [0.6085]]], device='cuda:0')\n",
      "Predicted Value: tensor([[[0.6085]]], device='cuda:0')\n",
      "torch.Size([1, 15, 1])\n",
      "torch.Size([1, 1, 1])\n",
      "tensor([[[0.1755],\n",
      "         [0.2751],\n",
      "         [0.3103],\n",
      "         [0.3280],\n",
      "         [0.3384],\n",
      "         [0.3453],\n",
      "         [0.3502],\n",
      "         [0.3540],\n",
      "         [0.3570],\n",
      "         [0.3595],\n",
      "         [0.3616],\n",
      "         [0.3633],\n",
      "         [0.3649],\n",
      "         [0.3663],\n",
      "         [0.3675],\n",
      "         [0.6085],\n",
      "         [0.6085]]], device='cuda:0')\n"
     ]
    },
    {
     "name": "stderr",
     "output_type": "stream",
     "text": [
      "C:\\Users\\remil\\AppData\\Local\\Temp\\ipykernel_6280\\1803032512.py:13: UserWarning: To copy construct from a tensor, it is recommended to use sourceTensor.clone().detach() or sourceTensor.clone().detach().requires_grad_(True), rather than torch.tensor(sourceTensor).\n",
      "  input_tensor = torch.tensor(input_data, dtype=torch.float).unsqueeze(0).unsqueeze(-1).to(device)\n",
      "C:\\Users\\remil\\AppData\\Local\\Temp\\ipykernel_6280\\1803032512.py:21: UserWarning: To copy construct from a tensor, it is recommended to use sourceTensor.clone().detach() or sourceTensor.clone().detach().requires_grad_(True), rather than torch.tensor(sourceTensor).\n",
      "  result_tensor = torch.cat((input_data, torch.tensor(predictions)), dim=1)\n",
      "C:\\Users\\remil\\AppData\\Local\\Temp\\ipykernel_6280\\1803032512.py:29: UserWarning: To copy construct from a tensor, it is recommended to use sourceTensor.clone().detach() or sourceTensor.clone().detach().requires_grad_(True), rather than torch.tensor(sourceTensor).\n",
      "  result_tensor = torch.cat((result_tensor, torch.tensor(predictions)), dim=1)\n"
     ]
    }
   ],
   "source": [
    "def predict_single_sequence(model, input_sequence):\n",
    "    model.eval()  # Ensure the model is in eval mode\n",
    "    with torch.no_grad():  # No gradients needed\n",
    "        # Assuming input_sequence is already a PyTorch tensor with the right shape and dtype\n",
    "        prediction = model(input_sequence).to(device)\n",
    "        # Convert the prediction back to a Python number for easy interpretation\n",
    "        predicted_value = prediction.item()\n",
    "    return predicted_value\n",
    "\n",
    "# Example usage\n",
    "input_data = y[:15].unsqueeze(0).to(device)  # Example input sequence\n",
    "\n",
    "input_tensor = torch.tensor(input_data, dtype=torch.float).unsqueeze(0).unsqueeze(-1).to(device)\n",
    "\n",
    "\n",
    "\n",
    "predictions = torch.tensor(predict_single_sequence(model, input_data)).to(device).unsqueeze(-1).unsqueeze(-1).unsqueeze(-1)\n",
    "print(f\"Predicted Value: {predictions}\")\n",
    "print(input_data.shape)\n",
    "print(predictions.shape)\n",
    "result_tensor = torch.cat((input_data, torch.tensor(predictions)), dim=1)\n",
    "print(result_tensor)\n",
    "\n",
    "\n",
    "predictions = torch.tensor(predict_single_sequence(model, result_tensor)).to(device).unsqueeze(-1).unsqueeze(-1).unsqueeze(-1)\n",
    "print(f\"Predicted Value: {predictions}\")\n",
    "print(input_data.shape)\n",
    "print(predictions.shape)\n",
    "result_tensor = torch.cat((result_tensor, torch.tensor(predictions)), dim=1)\n",
    "print(result_tensor)"
   ],
   "metadata": {
    "collapsed": false
   }
  },
  {
   "cell_type": "code",
   "execution_count": 57,
   "outputs": [],
   "source": [],
   "metadata": {
    "collapsed": false
   }
  },
  {
   "cell_type": "code",
   "execution_count": 15,
   "id": "31d375db-ec12-41d0-86b7-0ceffebdd908",
   "metadata": {},
   "outputs": [
    {
     "ename": "AttributeError",
     "evalue": "'TransformerModel' object has no attribute 'predict_quantiles'",
     "output_type": "error",
     "traceback": [
      "\u001B[1;31m---------------------------------------------------------------------------\u001B[0m",
      "\u001B[1;31mAttributeError\u001B[0m                            Traceback (most recent call last)",
      "Cell \u001B[1;32mIn[15], line 1\u001B[0m\n\u001B[1;32m----> 1\u001B[0m predictions \u001B[38;5;241m=\u001B[39m \u001B[43mmodel\u001B[49m\u001B[38;5;241;43m.\u001B[39;49m\u001B[43mpredict_quantiles\u001B[49m(x_train\u001B[38;5;241m=\u001B[39mx[:cutoff], y_train\u001B[38;5;241m=\u001B[39my[:cutoff], x_test\u001B[38;5;241m=\u001B[39mx[cutoff:], qs\u001B[38;5;241m=\u001B[39m[\u001B[38;5;241m0.05\u001B[39m, \u001B[38;5;241m0.5\u001B[39m, \u001B[38;5;241m0.95\u001B[39m])\n",
      "File \u001B[1;32m~\\.conda\\envs\\lcpfn\\lib\\site-packages\\torch\\nn\\modules\\module.py:1185\u001B[0m, in \u001B[0;36mModule.__getattr__\u001B[1;34m(self, name)\u001B[0m\n\u001B[0;32m   1183\u001B[0m     \u001B[38;5;28;01mif\u001B[39;00m name \u001B[38;5;129;01min\u001B[39;00m modules:\n\u001B[0;32m   1184\u001B[0m         \u001B[38;5;28;01mreturn\u001B[39;00m modules[name]\n\u001B[1;32m-> 1185\u001B[0m \u001B[38;5;28;01mraise\u001B[39;00m \u001B[38;5;167;01mAttributeError\u001B[39;00m(\u001B[38;5;124m\"\u001B[39m\u001B[38;5;124m'\u001B[39m\u001B[38;5;132;01m{}\u001B[39;00m\u001B[38;5;124m'\u001B[39m\u001B[38;5;124m object has no attribute \u001B[39m\u001B[38;5;124m'\u001B[39m\u001B[38;5;132;01m{}\u001B[39;00m\u001B[38;5;124m'\u001B[39m\u001B[38;5;124m\"\u001B[39m\u001B[38;5;241m.\u001B[39mformat(\n\u001B[0;32m   1186\u001B[0m     \u001B[38;5;28mtype\u001B[39m(\u001B[38;5;28mself\u001B[39m)\u001B[38;5;241m.\u001B[39m\u001B[38;5;18m__name__\u001B[39m, name))\n",
      "\u001B[1;31mAttributeError\u001B[0m: 'TransformerModel' object has no attribute 'predict_quantiles'"
     ]
    }
   ],
   "source": [
    "predictions = model.predict_quantiles(x_train=x[:cutoff], y_train=y[:cutoff], x_test=x[cutoff:], qs=[0.05, 0.5, 0.95])"
   ]
  },
  {
   "cell_type": "code",
   "execution_count": 19,
   "id": "e96900b1-c844-4540-9d9c-183429c525f1",
   "metadata": {},
   "outputs": [
    {
     "ename": "IndexError",
     "evalue": "too many indices for tensor of dimension 1",
     "output_type": "error",
     "traceback": [
      "\u001B[1;31m---------------------------------------------------------------------------\u001B[0m",
      "\u001B[1;31mIndexError\u001B[0m                                Traceback (most recent call last)",
      "Cell \u001B[1;32mIn[19], line 5\u001B[0m\n\u001B[0;32m      2\u001B[0m plt\u001B[38;5;241m.\u001B[39mplot(curve, \u001B[38;5;124m\"\u001B[39m\u001B[38;5;124mblack\u001B[39m\u001B[38;5;124m\"\u001B[39m, label\u001B[38;5;241m=\u001B[39m\u001B[38;5;124m\"\u001B[39m\u001B[38;5;124mtarget\u001B[39m\u001B[38;5;124m\"\u001B[39m)\n\u001B[0;32m      4\u001B[0m \u001B[38;5;66;03m# plot extrapolation\u001B[39;00m\n\u001B[1;32m----> 5\u001B[0m plt\u001B[38;5;241m.\u001B[39mplot(x[cutoff:], \u001B[43mpredictions\u001B[49m\u001B[43m[\u001B[49m\u001B[43m:\u001B[49m\u001B[43m,\u001B[49m\u001B[43m \u001B[49m\u001B[38;5;241;43m1\u001B[39;49m\u001B[43m]\u001B[49m, \u001B[38;5;124m\"\u001B[39m\u001B[38;5;124mblue\u001B[39m\u001B[38;5;124m\"\u001B[39m, label\u001B[38;5;241m=\u001B[39m\u001B[38;5;124m\"\u001B[39m\u001B[38;5;124mExtrapolation by PFN\u001B[39m\u001B[38;5;124m\"\u001B[39m)\n\u001B[0;32m      6\u001B[0m \u001B[38;5;66;03m# plt.fill_between(\u001B[39;00m\n\u001B[0;32m      7\u001B[0m \u001B[38;5;66;03m#         x[cutoff:].flatten(), predictions[:, 0], predictions[:, 2], color=\"blue\", alpha=0.2, label=\"CI of 90%\"\u001B[39;00m\n\u001B[0;32m      8\u001B[0m \u001B[38;5;66;03m# )\u001B[39;00m\n\u001B[0;32m      9\u001B[0m \n\u001B[0;32m     10\u001B[0m \u001B[38;5;66;03m# plot cutoff\u001B[39;00m\n\u001B[0;32m     11\u001B[0m plt\u001B[38;5;241m.\u001B[39mvlines(cutoff, \u001B[38;5;241m0\u001B[39m, \u001B[38;5;241m1\u001B[39m, linewidth\u001B[38;5;241m=\u001B[39m\u001B[38;5;241m0.5\u001B[39m, color\u001B[38;5;241m=\u001B[39m\u001B[38;5;124m\"\u001B[39m\u001B[38;5;124mk\u001B[39m\u001B[38;5;124m\"\u001B[39m, label\u001B[38;5;241m=\u001B[39m\u001B[38;5;124m\"\u001B[39m\u001B[38;5;124mcutoff\u001B[39m\u001B[38;5;124m\"\u001B[39m)\n",
      "\u001B[1;31mIndexError\u001B[0m: too many indices for tensor of dimension 1"
     ]
    },
    {
     "data": {
      "text/plain": "<Figure size 640x480 with 1 Axes>",
      "image/png": "[encoded data removed]"
     },
     "metadata": {},
     "output_type": "display_data"
    }
   ],
   "source": [
    "# plot data\n",
    "plt.plot(curve, \"black\", label=\"target\")\n",
    "\n",
    "# plot extrapolation\n",
    "plt.plot(x[cutoff:], predictions[:, 1], \"blue\", label=\"Extrapolation by PFN\")\n",
    "plt.fill_between(\n",
    "        x[cutoff:].flatten(), predictions[:, 0], predictions[:, 2], color=\"blue\", alpha=0.2, label=\"CI of 90%\"\n",
    ")\n",
    "\n",
    "# plot cutoff\n",
    "plt.vlines(cutoff, 0, 1, linewidth=0.5, color=\"k\", label=\"cutoff\")\n",
    "plt.ylim(0, 1)\n",
    "plt.legend(loc=\"lower right\")"
   ]
  },
  {
   "cell_type": "code",
   "execution_count": null,
   "id": "d748b6ff-d202-44e7-9894-edfb1051f6cf",
   "metadata": {},
   "outputs": [],
   "source": []
  }
 ],
 "metadata": {
  "kernelspec": {
   "display_name": "Python 3 (ipykernel)",
   "language": "python",
   "name": "python3"
  },
  "language_info": {
   "codemirror_mode": {
    "name": "ipython",
    "version": 3
   },
   "file_extension": ".py",
   "mimetype": "text/x-python",
   "name": "python",
   "nbconvert_exporter": "python",
   "pygments_lexer": "ipython3",
   "version": "3.9.19"
  }
 },
 "nbformat": 4,
 "nbformat_minor": 5
}
