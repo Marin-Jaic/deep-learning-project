{
 "cells": [
  {
   "cell_type": "code",
   "execution_count": 1,
   "id": "718131ff-a3f1-4e41-918b-57ed59ce5af3",
   "metadata": {},
   "outputs": [],
   "source": [
    "%load_ext autoreload\n",
    "%autoreload 2"
   ]
  },
  {
   "cell_type": "code",
   "execution_count": 2,
   "id": "ae91ba35-9239-4dce-b767-0264c8e4809b",
   "metadata": {},
   "outputs": [
    {
     "name": "stderr",
     "output_type": "stream",
     "text": [
      "C:\\Users\\remil\\.conda\\envs\\lcpfn\\lib\\site-packages\\IPython\\core\\magics\\osm.py:417: UserWarning: using dhist requires you to install the `pickleshare` library.\n",
      "  self.shell.db['dhist'] = compress_dhist(dhist)[-100:]\n"
     ]
    }
   ],
   "source": [
    "%cd -q .."
   ]
  },
  {
   "cell_type": "code",
   "execution_count": 3,
   "id": "2d627399-e989-432e-b12f-f5aa1b62dae6",
   "metadata": {},
   "outputs": [],
   "source": [
    "import lcpfn \n",
    "import torch\n",
    "import numpy as np\n",
    "from matplotlib import pyplot as plt\n",
    "import torch\n",
    "import torch.nn as nn\n",
    "import torch.nn.functional as F\n",
    "import math\n",
    "\n",
    "import torch\n",
    "from torch.utils.data import TensorDataset, DataLoader\n"
   ]
  },
  {
   "cell_type": "code",
   "execution_count": null,
   "id": "a1bf4202",
   "metadata": {
    "pycharm": {
     "is_executing": true
    }
   },
   "outputs": [
    {
     "name": "stdout",
     "output_type": "stream",
     "text": [
      "input_shape: torch.Size([10, 15, 1])\n",
      "output shape: torch.Size([10])\n",
      "input_shape: torch.Size([10, 16, 1])\n",
      "output shape: torch.Size([10])\n",
      "input_shape: torch.Size([10, 17, 1])\n",
      "output shape: torch.Size([10])\n",
      "input_shape: torch.Size([10, 18, 1])\n",
      "output shape: torch.Size([10])\n",
      "input_shape: torch.Size([10, 19, 1])\n",
      "output shape: torch.Size([10])\n",
      "input_shape: torch.Size([10, 20, 1])\n",
      "output shape: torch.Size([10])\n",
      "input_shape: torch.Size([10, 21, 1])\n",
      "output shape: torch.Size([10])\n",
      "input_shape: torch.Size([10, 22, 1])\n",
      "output shape: torch.Size([10])\n",
      "input_shape: torch.Size([10, 23, 1])\n",
      "output shape: torch.Size([10])\n",
      "input_shape: torch.Size([10, 24, 1])\n",
      "output shape: torch.Size([10])\n",
      "input_shape: torch.Size([10, 25, 1])\n",
      "output shape: torch.Size([10])\n",
      "input_shape: torch.Size([10, 26, 1])\n",
      "output shape: torch.Size([10])\n",
      "input_shape: torch.Size([10, 27, 1])\n",
      "output shape: torch.Size([10])\n",
      "input_shape: torch.Size([10, 28, 1])\n",
      "output shape: torch.Size([10])\n",
      "input_shape: torch.Size([10, 29, 1])\n",
      "output shape: torch.Size([10])\n",
      "input_shape: torch.Size([10, 30, 1])\n",
      "output shape: torch.Size([10])\n",
      "input_shape: torch.Size([10, 31, 1])\n",
      "output shape: torch.Size([10])\n",
      "input_shape: torch.Size([10, 32, 1])\n",
      "output shape: torch.Size([10])\n",
      "input_shape: torch.Size([10, 33, 1])\n",
      "output shape: torch.Size([10])\n",
      "input_shape: torch.Size([10, 34, 1])\n",
      "output shape: torch.Size([10])\n",
      "input_shape: torch.Size([10, 35, 1])\n",
      "output shape: torch.Size([10])\n",
      "input_shape: torch.Size([10, 36, 1])\n",
      "output shape: torch.Size([10])\n",
      "input_shape: torch.Size([10, 37, 1])\n",
      "output shape: torch.Size([10])\n",
      "input_shape: torch.Size([10, 38, 1])\n",
      "output shape: torch.Size([10])\n",
      "input_shape: torch.Size([10, 39, 1])\n",
      "output shape: torch.Size([10])\n",
      "input_shape: torch.Size([10, 40, 1])\n",
      "output shape: torch.Size([10])\n",
      "input_shape: torch.Size([10, 41, 1])\n",
      "output shape: torch.Size([10])\n",
      "input_shape: torch.Size([10, 42, 1])\n",
      "output shape: torch.Size([10])\n",
      "input_shape: torch.Size([10, 43, 1])\n",
      "output shape: torch.Size([10])\n",
      "input_shape: torch.Size([10, 44, 1])\n",
      "output shape: torch.Size([10])\n",
      "input_shape: torch.Size([10, 45, 1])\n",
      "output shape: torch.Size([10])\n",
      "input_shape: torch.Size([10, 46, 1])\n",
      "output shape: torch.Size([10])\n",
      "input_shape: torch.Size([10, 47, 1])\n",
      "output shape: torch.Size([10])\n",
      "input_shape: torch.Size([10, 48, 1])\n",
      "output shape: torch.Size([10])\n",
      "input_shape: torch.Size([10, 49, 1])\n",
      "output shape: torch.Size([10])\n",
      "input_shape: torch.Size([10, 50, 1])\n",
      "output shape: torch.Size([10])\n",
      "input_shape: torch.Size([10, 51, 1])\n",
      "output shape: torch.Size([10])\n",
      "input_shape: torch.Size([10, 52, 1])\n",
      "output shape: torch.Size([10])\n",
      "input_shape: torch.Size([10, 53, 1])\n",
      "output shape: torch.Size([10])\n",
      "input_shape: torch.Size([10, 54, 1])\n",
      "output shape: torch.Size([10])\n",
      "input_shape: torch.Size([10, 55, 1])\n",
      "output shape: torch.Size([10])\n",
      "input_shape: torch.Size([10, 56, 1])\n",
      "output shape: torch.Size([10])\n",
      "input_shape: torch.Size([10, 57, 1])\n",
      "output shape: torch.Size([10])\n",
      "input_shape: torch.Size([10, 58, 1])\n",
      "output shape: torch.Size([10])\n",
      "input_shape: torch.Size([10, 59, 1])\n",
      "output shape: torch.Size([10])\n",
      "input_shape: torch.Size([10, 60, 1])\n",
      "output shape: torch.Size([10])\n",
      "input_shape: torch.Size([10, 61, 1])\n",
      "output shape: torch.Size([10])\n",
      "input_shape: torch.Size([10, 62, 1])\n",
      "output shape: torch.Size([10])\n",
      "input_shape: torch.Size([10, 63, 1])\n",
      "output shape: torch.Size([10])\n",
      "input_shape: torch.Size([10, 64, 1])\n",
      "output shape: torch.Size([10])\n",
      "input_shape: torch.Size([10, 65, 1])\n",
      "output shape: torch.Size([10])\n",
      "input_shape: torch.Size([10, 66, 1])\n",
      "output shape: torch.Size([10])\n",
      "input_shape: torch.Size([10, 67, 1])\n",
      "output shape: torch.Size([10])\n",
      "input_shape: torch.Size([10, 68, 1])\n",
      "output shape: torch.Size([10])\n",
      "input_shape: torch.Size([10, 69, 1])\n",
      "output shape: torch.Size([10])\n",
      "input_shape: torch.Size([10, 70, 1])\n",
      "output shape: torch.Size([10])\n",
      "input_shape: torch.Size([10, 71, 1])\n",
      "output shape: torch.Size([10])\n",
      "input_shape: torch.Size([10, 72, 1])\n",
      "output shape: torch.Size([10])\n",
      "input_shape: torch.Size([10, 73, 1])\n",
      "output shape: torch.Size([10])\n",
      "input_shape: torch.Size([10, 74, 1])\n",
      "output shape: torch.Size([10])\n",
      "input_shape: torch.Size([10, 75, 1])\n",
      "output shape: torch.Size([10])\n",
      "input_shape: torch.Size([10, 76, 1])\n",
      "output shape: torch.Size([10])\n",
      "input_shape: torch.Size([10, 77, 1])\n",
      "output shape: torch.Size([10])\n",
      "input_shape: torch.Size([10, 78, 1])\n"
     ]
    }
   ],
   "source": [
    "# curve data is 100 points\n",
    "# split data into 50 and 50\n",
    "# given first 50 points predict next 50 points\n",
    "input_length = 15  # Num input elements\n",
    "target_length = 85  # Num target elements\n",
    "\n",
    "# get data (100 curves)\n",
    "# Y seems to be the true curve data, X is just indecies???\n",
    "get_batch_func = lcpfn.create_get_batch_func(prior=lcpfn.sample_from_prior)\n",
    "X, Y, Y_noisy = get_batch_func(batch_size=100, seq_len=100, num_features=1)\n",
    "\n",
    "# Splitting data into input and target\n",
    "# input given to transformer who's output is compared to target\n",
    "inputs = Y[:, :input_length]\n",
    "targets = Y[:, input_length:]\n",
    "\n",
    "#load data\n",
    "dataset = TensorDataset(inputs, targets)\n",
    "data_loader = DataLoader(\n",
    "    dataset, batch_size=10, shuffle=True\n",
    ")\n",
    "\n",
    "# not already implemented by torch\n",
    "# encodes positional data of order the tokens are in the sequence\n",
    "class PositionalEncoding(nn.Module):\n",
    "    def __init__(self, d_model, max_len=5000):\n",
    "        super(PositionalEncoding, self).__init__()\n",
    "        pe = torch.zeros(max_len, d_model)\n",
    "        position = torch.arange(0, max_len, dtype=torch.float).unsqueeze(1)\n",
    "        div_term = torch.exp(\n",
    "            torch.arange(0, d_model, 2).float() * (-math.log(10000.0) / d_model)\n",
    "        )\n",
    "        pe[:, 0::2] = torch.sin(position * div_term)\n",
    "        pe[:, 1::2] = torch.cos(position * div_term)\n",
    "        pe = pe.unsqueeze(0).transpose(0, 1)\n",
    "        self.register_buffer(\"pe\", pe)\n",
    "\n",
    "    def forward(self, x):\n",
    "        x = x + self.pe[: x.size(0), :]\n",
    "        return x\n",
    "\n",
    "\n",
    "class TransformerModel(nn.Module):\n",
    "    def __init__(self, input_dim, model_dim, num_heads, num_layers, dim_feedforward):\n",
    "        super(TransformerModel, self).__init__()\n",
    "        self.model_dim = model_dim\n",
    "        self.pos_encoder = PositionalEncoding(model_dim)\n",
    "        encoder_layers = nn.TransformerEncoderLayer(\n",
    "            d_model=model_dim, nhead=num_heads, dim_feedforward=dim_feedforward\n",
    "        )\n",
    "        self.transformer_encoder = nn.TransformerEncoder(\n",
    "            encoder_layers, num_layers=num_layers\n",
    "        )\n",
    "        self.encoder = nn.Linear(input_dim, model_dim)\n",
    "        self.decoder = nn.Linear(model_dim, 1)\n",
    "        self.init_weights()\n",
    "\n",
    "    def init_weights(self):\n",
    "        initrange = 0.1\n",
    "        self.encoder.weight.data.uniform_(-initrange, initrange)\n",
    "        self.decoder.weight.data.uniform_(-initrange, initrange)\n",
    "\n",
    "    def forward(self, src):\n",
    "        src = self.encoder(src) * math.sqrt(self.model_dim)\n",
    "        src = self.pos_encoder(src)\n",
    "        output = self.transformer_encoder(src)\n",
    "        # Use the representation of the last position\n",
    "        output = output[:, -1, :]\n",
    "        output = self.decoder(output)\n",
    "        output = torch.sigmoid(output)\n",
    "        return output.squeeze(-1)  # Optionally remove the last dimension for a cleaner output shape\n",
    "\n",
    "\n",
    "\n",
    "model = TransformerModel(\n",
    "    input_dim=1,\n",
    "    model_dim=512,\n",
    "    num_heads=8,\n",
    "    num_layers=6,\n",
    "    dim_feedforward=2048,\n",
    ")\n",
    "criterion = torch.nn.MSELoss()\n",
    "optimizer = torch.optim.Adam(model.parameters(), lr=0.001)\n",
    "\n",
    "for epoch in range(1):\n",
    "    model.train()\n",
    "    total_loss = 0\n",
    "    for input_sequence, target_sequence in data_loader:\n",
    "        optimizer.zero_grad()\n",
    "\n",
    "        # Reshape for model's expected input\n",
    "        input_sequence = input_sequence.unsqueeze(-1)  # Shape: [batch_size, seq_len, features]\n",
    "\n",
    "        # Initialize the tensor for model predictions\n",
    "        predictions = torch.zeros(input_sequence.shape[0], target_length, 1)  # Shape: [batch_size, target_length, features]\n",
    "\n",
    "        # Autoregressive generation inside the training loop\n",
    "        for i in range(target_length):\n",
    "            # Generate prediction for the next time step\n",
    "            # print(\"input_shape:\", input_sequence.shape)\n",
    "            output = model(input_sequence)  # Assume the model is designed to output the next step\n",
    "            # print(\"output shape:\",output.shape)\n",
    "            predictions = output\n",
    "\n",
    "            # Prepare input for the next step\n",
    "            next_input = target_sequence[:, i].unsqueeze(-1).unsqueeze(-1)  # Using true value (teacher forcing)\n",
    "            input_sequence = torch.cat((input_sequence, next_input), dim=1)\n",
    "\n",
    "        loss = criterion(predictions, target_sequence.unsqueeze(-1))\n",
    "        loss.backward()\n",
    "        optimizer.step()\n",
    "        total_loss += loss.item()\n",
    "\n",
    "    print(f\"Epoch {epoch}, Loss: {total_loss / len(data_loader)}\")"
   ]
  },
  {
   "cell_type": "markdown",
   "id": "d6dc8df6-5267-4888-bc5a-e5e942331b79",
   "metadata": {},
   "source": [
    "## Load trained LC-PFN model"
   ]
  },
  {
   "cell_type": "code",
   "execution_count": 21,
   "id": "e4188fdb-4a1e-4508-9530-8d2448e238cb",
   "metadata": {
    "pycharm": {
     "is_executing": true
    }
   },
   "outputs": [],
   "source": [
    "model = lcpfn.LCPFN()"
   ]
  },
  {
   "cell_type": "markdown",
   "id": "03d80175-5f10-404a-85ce-59505f043691",
   "metadata": {},
   "source": [
    "## Generate a learning curve from the prior"
   ]
  },
  {
   "cell_type": "code",
   "execution_count": 22,
   "id": "414fe267",
   "metadata": {
    "collapsed": false,
    "jupyter": {
     "outputs_hidden": false
    }
   },
   "outputs": [
    {
     "name": "stdout",
     "output_type": "stream",
     "text": [
      "test\n"
     ]
    }
   ],
   "source": [
    "print(\"test\")"
   ]
  },
  {
   "cell_type": "code",
   "execution_count": 13,
   "id": "fafc60aa-0681-494f-9be3-09b40e1495ad",
   "metadata": {},
   "outputs": [
    {
     "data": {
      "text/plain": "(0.0, 1.0)"
     },
     "execution_count": 13,
     "metadata": {},
     "output_type": "execute_result"
    },
    {
     "data": {
      "text/plain": "<Figure size 640x480 with 1 Axes>",
      "image/png": "[encoded data removed]"
     },
     "metadata": {},
     "output_type": "display_data"
    }
   ],
   "source": [
    "prior = lcpfn.sample_from_prior(np.random)\n",
    "curve, _ = prior()\n",
    "plt.plot(curve, \"black\")\n",
    "plt.ylim(0, 1)"
   ]
  },
  {
   "cell_type": "markdown",
   "id": "18d1ceef-30a8-47c7-9754-ed7bf194cd37",
   "metadata": {},
   "source": [
    "## Extrapolate the learning curve with a cutoff of 10%"
   ]
  },
  {
   "cell_type": "code",
   "execution_count": null,
   "outputs": [],
   "source": [],
   "metadata": {
    "collapsed": false
   }
  },
  {
   "cell_type": "code",
   "execution_count": 14,
   "id": "3610482a-5e21-4109-a3b3-16d937e26cd9",
   "metadata": {},
   "outputs": [],
   "source": [
    "# construct \n",
    "\n",
    "x = torch.arange(1, 101).unsqueeze(1)\n",
    "y = torch.from_numpy(curve).float().unsqueeze(1)\n",
    "cutoff = 10"
   ]
  },
  {
   "cell_type": "code",
   "execution_count": 46,
   "outputs": [
    {
     "name": "stdout",
     "output_type": "stream",
     "text": [
      "torch.Size([1, 15, 1])\n",
      "torch.Size([1])\n",
      "Predicted Value: -0.2924157977104187\n"
     ]
    },
    {
     "name": "stderr",
     "output_type": "stream",
     "text": [
      "C:\\Users\\remil\\AppData\\Local\\Temp\\ipykernel_8680\\2766388783.py:14: UserWarning: To copy construct from a tensor, it is recommended to use sourceTensor.clone().detach() or sourceTensor.clone().detach().requires_grad_(True), rather than torch.tensor(sourceTensor).\n",
      "  input_tensor = torch.tensor(input_data, dtype=torch.float).unsqueeze(0).unsqueeze(-1)\n",
      "C:\\Users\\remil\\AppData\\Local\\Temp\\ipykernel_8680\\2766388783.py:6: UserWarning: To copy construct from a tensor, it is recommended to use sourceTensor.clone().detach() or sourceTensor.clone().detach().requires_grad_(True), rather than torch.tensor(sourceTensor).\n",
      "  prediction = model(torch.tensor(input_data))\n"
     ]
    }
   ],
   "source": [
    "def predict_single_sequence(model, input_sequence):\n",
    "    model.eval()  # Ensure the model is in eval mode\n",
    "    with torch.no_grad():  # No gradients needed\n",
    "        # Assuming input_sequence is already a PyTorch tensor with the right shape and dtype\n",
    "        print(input_data.shape)\n",
    "        prediction = model(torch.tensor(input_data))\n",
    "        # Convert the prediction back to a Python number for easy interpretation\n",
    "        print(prediction.shape)\n",
    "        predicted_value = prediction.item()\n",
    "    return predicted_value\n",
    "\n",
    "# Example usage\n",
    "input_data = y[:15].unsqueeze(0)  # Example input sequence\n",
    "input_tensor = torch.tensor(input_data, dtype=torch.float).unsqueeze(0).unsqueeze(-1)\n",
    "predictions = predict_single_sequence(model, input_tensor)\n",
    "print(f\"Predicted Value: {predictions}\")"
   ],
   "metadata": {
    "collapsed": false
   }
  },
  {
   "cell_type": "code",
   "execution_count": 15,
   "id": "31d375db-ec12-41d0-86b7-0ceffebdd908",
   "metadata": {},
   "outputs": [
    {
     "ename": "AttributeError",
     "evalue": "'TransformerModel' object has no attribute 'predict_quantiles'",
     "output_type": "error",
     "traceback": [
      "\u001B[1;31m---------------------------------------------------------------------------\u001B[0m",
      "\u001B[1;31mAttributeError\u001B[0m                            Traceback (most recent call last)",
      "Cell \u001B[1;32mIn[15], line 1\u001B[0m\n\u001B[1;32m----> 1\u001B[0m predictions \u001B[38;5;241m=\u001B[39m \u001B[43mmodel\u001B[49m\u001B[38;5;241;43m.\u001B[39;49m\u001B[43mpredict_quantiles\u001B[49m(x_train\u001B[38;5;241m=\u001B[39mx[:cutoff], y_train\u001B[38;5;241m=\u001B[39my[:cutoff], x_test\u001B[38;5;241m=\u001B[39mx[cutoff:], qs\u001B[38;5;241m=\u001B[39m[\u001B[38;5;241m0.05\u001B[39m, \u001B[38;5;241m0.5\u001B[39m, \u001B[38;5;241m0.95\u001B[39m])\n",
      "File \u001B[1;32m~\\.conda\\envs\\lcpfn\\lib\\site-packages\\torch\\nn\\modules\\module.py:1185\u001B[0m, in \u001B[0;36mModule.__getattr__\u001B[1;34m(self, name)\u001B[0m\n\u001B[0;32m   1183\u001B[0m     \u001B[38;5;28;01mif\u001B[39;00m name \u001B[38;5;129;01min\u001B[39;00m modules:\n\u001B[0;32m   1184\u001B[0m         \u001B[38;5;28;01mreturn\u001B[39;00m modules[name]\n\u001B[1;32m-> 1185\u001B[0m \u001B[38;5;28;01mraise\u001B[39;00m \u001B[38;5;167;01mAttributeError\u001B[39;00m(\u001B[38;5;124m\"\u001B[39m\u001B[38;5;124m'\u001B[39m\u001B[38;5;132;01m{}\u001B[39;00m\u001B[38;5;124m'\u001B[39m\u001B[38;5;124m object has no attribute \u001B[39m\u001B[38;5;124m'\u001B[39m\u001B[38;5;132;01m{}\u001B[39;00m\u001B[38;5;124m'\u001B[39m\u001B[38;5;124m\"\u001B[39m\u001B[38;5;241m.\u001B[39mformat(\n\u001B[0;32m   1186\u001B[0m     \u001B[38;5;28mtype\u001B[39m(\u001B[38;5;28mself\u001B[39m)\u001B[38;5;241m.\u001B[39m\u001B[38;5;18m__name__\u001B[39m, name))\n",
      "\u001B[1;31mAttributeError\u001B[0m: 'TransformerModel' object has no attribute 'predict_quantiles'"
     ]
    }
   ],
   "source": [
    "predictions = model.predict_quantiles(x_train=x[:cutoff], y_train=y[:cutoff], x_test=x[cutoff:], qs=[0.05, 0.5, 0.95])"
   ]
  },
  {
   "cell_type": "code",
   "execution_count": 19,
   "id": "e96900b1-c844-4540-9d9c-183429c525f1",
   "metadata": {},
   "outputs": [
    {
     "ename": "IndexError",
     "evalue": "too many indices for tensor of dimension 1",
     "output_type": "error",
     "traceback": [
      "\u001B[1;31m---------------------------------------------------------------------------\u001B[0m",
      "\u001B[1;31mIndexError\u001B[0m                                Traceback (most recent call last)",
      "Cell \u001B[1;32mIn[19], line 5\u001B[0m\n\u001B[0;32m      2\u001B[0m plt\u001B[38;5;241m.\u001B[39mplot(curve, \u001B[38;5;124m\"\u001B[39m\u001B[38;5;124mblack\u001B[39m\u001B[38;5;124m\"\u001B[39m, label\u001B[38;5;241m=\u001B[39m\u001B[38;5;124m\"\u001B[39m\u001B[38;5;124mtarget\u001B[39m\u001B[38;5;124m\"\u001B[39m)\n\u001B[0;32m      4\u001B[0m \u001B[38;5;66;03m# plot extrapolation\u001B[39;00m\n\u001B[1;32m----> 5\u001B[0m plt\u001B[38;5;241m.\u001B[39mplot(x[cutoff:], \u001B[43mpredictions\u001B[49m\u001B[43m[\u001B[49m\u001B[43m:\u001B[49m\u001B[43m,\u001B[49m\u001B[43m \u001B[49m\u001B[38;5;241;43m1\u001B[39;49m\u001B[43m]\u001B[49m, \u001B[38;5;124m\"\u001B[39m\u001B[38;5;124mblue\u001B[39m\u001B[38;5;124m\"\u001B[39m, label\u001B[38;5;241m=\u001B[39m\u001B[38;5;124m\"\u001B[39m\u001B[38;5;124mExtrapolation by PFN\u001B[39m\u001B[38;5;124m\"\u001B[39m)\n\u001B[0;32m      6\u001B[0m \u001B[38;5;66;03m# plt.fill_between(\u001B[39;00m\n\u001B[0;32m      7\u001B[0m \u001B[38;5;66;03m#         x[cutoff:].flatten(), predictions[:, 0], predictions[:, 2], color=\"blue\", alpha=0.2, label=\"CI of 90%\"\u001B[39;00m\n\u001B[0;32m      8\u001B[0m \u001B[38;5;66;03m# )\u001B[39;00m\n\u001B[0;32m      9\u001B[0m \n\u001B[0;32m     10\u001B[0m \u001B[38;5;66;03m# plot cutoff\u001B[39;00m\n\u001B[0;32m     11\u001B[0m plt\u001B[38;5;241m.\u001B[39mvlines(cutoff, \u001B[38;5;241m0\u001B[39m, \u001B[38;5;241m1\u001B[39m, linewidth\u001B[38;5;241m=\u001B[39m\u001B[38;5;241m0.5\u001B[39m, color\u001B[38;5;241m=\u001B[39m\u001B[38;5;124m\"\u001B[39m\u001B[38;5;124mk\u001B[39m\u001B[38;5;124m\"\u001B[39m, label\u001B[38;5;241m=\u001B[39m\u001B[38;5;124m\"\u001B[39m\u001B[38;5;124mcutoff\u001B[39m\u001B[38;5;124m\"\u001B[39m)\n",
      "\u001B[1;31mIndexError\u001B[0m: too many indices for tensor of dimension 1"
     ]
    },
    {
     "data": {
      "text/plain": "<Figure size 640x480 with 1 Axes>",
      "image/png": "[encoded data removed]"
     },
     "metadata": {},
     "output_type": "display_data"
    }
   ],
   "source": [
    "# plot data\n",
    "plt.plot(curve, \"black\", label=\"target\")\n",
    "\n",
    "# plot extrapolation\n",
    "plt.plot(x[cutoff:], predictions[:, 1], \"blue\", label=\"Extrapolation by PFN\")\n",
    "plt.fill_between(\n",
    "        x[cutoff:].flatten(), predictions[:, 0], predictions[:, 2], color=\"blue\", alpha=0.2, label=\"CI of 90%\"\n",
    ")\n",
    "\n",
    "# plot cutoff\n",
    "plt.vlines(cutoff, 0, 1, linewidth=0.5, color=\"k\", label=\"cutoff\")\n",
    "plt.ylim(0, 1)\n",
    "plt.legend(loc=\"lower right\")"
   ]
  },
  {
   "cell_type": "code",
   "execution_count": null,
   "id": "d748b6ff-d202-44e7-9894-edfb1051f6cf",
   "metadata": {},
   "outputs": [],
   "source": []
  }
 ],
 "metadata": {
  "kernelspec": {
   "display_name": "Python 3 (ipykernel)",
   "language": "python",
   "name": "python3"
  },
  "language_info": {
   "codemirror_mode": {
    "name": "ipython",
    "version": 3
   },
   "file_extension": ".py",
   "mimetype": "text/x-python",
   "name": "python",
   "nbconvert_exporter": "python",
   "pygments_lexer": "ipython3",
   "version": "3.9.19"
  }
 },
 "nbformat": 4,
 "nbformat_minor": 5
}
