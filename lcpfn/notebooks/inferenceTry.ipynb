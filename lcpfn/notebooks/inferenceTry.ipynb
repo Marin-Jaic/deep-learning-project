{
 "cells": [
  {
   "cell_type": "code",
   "execution_count": 1,
   "id": "718131ff-a3f1-4e41-918b-57ed59ce5af3",
   "metadata": {},
   "outputs": [],
   "source": [
    "%load_ext autoreload\n",
    "%autoreload 2"
   ]
  },
  {
   "cell_type": "code",
   "execution_count": 2,
   "id": "ae91ba35-9239-4dce-b767-0264c8e4809b",
   "metadata": {},
   "outputs": [
    {
     "name": "stderr",
     "output_type": "stream",
     "text": [
      "C:\\Users\\remil\\.conda\\envs\\lcpfn\\lib\\site-packages\\IPython\\core\\magics\\osm.py:417: UserWarning: using dhist requires you to install the `pickleshare` library.\n",
      "  self.shell.db['dhist'] = compress_dhist(dhist)[-100:]\n"
     ]
    }
   ],
   "source": [
    "%cd -q .."
   ]
  },
  {
   "cell_type": "code",
   "execution_count": 3,
   "id": "2d627399-e989-432e-b12f-f5aa1b62dae6",
   "metadata": {},
   "outputs": [],
   "source": [
    "import lcpfn \n",
    "import torch\n",
    "import numpy as np\n",
    "from matplotlib import pyplot as plt\n",
    "import torch\n",
    "import torch.nn as nn\n",
    "import torch.nn.functional as F\n",
    "import math\n",
    "\n",
    "import torch\n",
    "from torch.utils.data import TensorDataset, DataLoader\n"
   ]
  },
  {
   "cell_type": "code",
   "execution_count": null,
   "id": "a1bf4202",
   "metadata": {
    "pycharm": {
     "is_executing": true
    }
   },
   "outputs": [
    {
     "name": "stdout",
     "output_type": "stream",
     "text": [
      "torch.Size([10, 85])\n",
      "torch.Size([10, 85])\n",
      "torch.Size([10, 85])\n",
      "torch.Size([10, 85])\n",
      "torch.Size([10, 85])\n",
      "torch.Size([10, 85])\n",
      "torch.Size([10, 85])\n",
      "torch.Size([10, 85])\n",
      "torch.Size([10, 85])\n",
      "torch.Size([10, 85])\n",
      "Epoch 0, Loss: 52.23170831799507\n",
      "torch.Size([10, 85])\n",
      "torch.Size([10, 85])\n",
      "torch.Size([10, 85])\n"
     ]
    }
   ],
   "source": [
    "# curve data is 100 points\n",
    "# split data into 50 and 50\n",
    "# given first 50 points predict next 50 points\n",
    "input_length = 15  # Num input elements\n",
    "target_length = 85  # Num target elements\n",
    "\n",
    "# get data (100 curves)\n",
    "# Y seems to be the true curve data, X is just indecies???\n",
    "get_batch_func = lcpfn.create_get_batch_func(prior=lcpfn.sample_from_prior)\n",
    "X, Y, Y_noisy = get_batch_func(batch_size=100, seq_len=100, num_features=1)\n",
    "\n",
    "# Splitting data into input and target\n",
    "# input given to transformer who's output is compared to target\n",
    "inputs = Y[:, :input_length]\n",
    "targets = Y[:, input_length : input_length + target_length]\n",
    "\n",
    "#load data\n",
    "dataset = TensorDataset(inputs, targets)\n",
    "data_loader = DataLoader(\n",
    "    dataset, batch_size=10, shuffle=True\n",
    ")  \n",
    "\n",
    "# not already implemented by torch\n",
    "# encodes positional data of order the tokens are in the sequence\n",
    "class PositionalEncoding(nn.Module):\n",
    "    def __init__(self, d_model, max_len=5000):\n",
    "        super(PositionalEncoding, self).__init__()\n",
    "        pe = torch.zeros(max_len, d_model)\n",
    "        position = torch.arange(0, max_len, dtype=torch.float).unsqueeze(1)\n",
    "        div_term = torch.exp(\n",
    "            torch.arange(0, d_model, 2).float() * (-math.log(10000.0) / d_model)\n",
    "        )\n",
    "        pe[:, 0::2] = torch.sin(position * div_term)\n",
    "        pe[:, 1::2] = torch.cos(position * div_term)\n",
    "        pe = pe.unsqueeze(0).transpose(0, 1)\n",
    "        self.register_buffer(\"pe\", pe)\n",
    "\n",
    "    def forward(self, x):\n",
    "        x = x + self.pe[: x.size(0), :]\n",
    "        return x\n",
    "\n",
    "\n",
    "class TransformerModel(nn.Module):\n",
    "    def __init__(self, input_dim, model_dim, num_heads, num_layers, dim_feedforward):\n",
    "        super(TransformerModel, self).__init__()\n",
    "        self.model_dim = model_dim\n",
    "        self.pos_encoder = PositionalEncoding(model_dim)\n",
    "        encoder_layers = nn.TransformerEncoderLayer(\n",
    "            d_model=model_dim, nhead=num_heads, dim_feedforward=dim_feedforward\n",
    "        )\n",
    "        self.transformer_encoder = nn.TransformerEncoder(\n",
    "            encoder_layers, num_layers=num_layers\n",
    "        )\n",
    "        self.encoder = nn.Linear(input_dim, model_dim)\n",
    "        self.decoder = nn.Linear(model_dim, 1)\n",
    "        self.init_weights()\n",
    "\n",
    "    def init_weights(self):\n",
    "        initrange = 0.1\n",
    "        self.encoder.weight.data.uniform_(-initrange, initrange)\n",
    "        self.decoder.weight.data.uniform_(-initrange, initrange)\n",
    "\n",
    "    def forward(self, src):\n",
    "        src = self.encoder(src) * math.sqrt(self.model_dim)\n",
    "        src = self.pos_encoder(src)\n",
    "        output = self.transformer_encoder(src)\n",
    "        # Assuming output shape is [batch_size, input_seq_len, model_dim], e.g., [10, 15, 512]\n",
    "        # This next step is conceptually for demonstration and likely not suitable for actual sequence generation:\n",
    "        output = torch.mean(output, dim=1)  # Reduce over the sequence dimension, resulting in [batch_size, model_dim]\n",
    "        output = self.decoder(output).unsqueeze(1)  # Decoder now expects [batch_size, model_dim], unsqueeze for compatibility\n",
    "        # Expand or repeat the output to match the target length, although this is not a genuine sequence generation\n",
    "        output = output.repeat(1, target_length, 1)  # Naive repeat to match [batch_size, target_length, output_dim]\n",
    "        return output.squeeze(-1)  # Adjust dimensions to match [batch_size, target_length]\n",
    "\n",
    "\n",
    "\n",
    "model = TransformerModel(\n",
    "    input_dim=1,\n",
    "    model_dim=512,\n",
    "    num_heads=8,\n",
    "    num_layers=6,\n",
    "    dim_feedforward=2048,\n",
    ")\n",
    "criterion = torch.nn.MSELoss()\n",
    "optimizer = torch.optim.Adam(model.parameters(), lr=0.001)\n",
    "\n",
    "for epoch in range(10):\n",
    "    model.train()\n",
    "    total_loss = 0.0\n",
    "    for input_sequence, target_sequence in data_loader:\n",
    "        optimizer.zero_grad()\n",
    "        # Reshaping input to match the model's input shape\n",
    "        input_sequence = input_sequence.unsqueeze(-1)\n",
    "        output = model(input_sequence)\n",
    "        print(output.shape)\n",
    "        # print(output.shape, target_sequence.shape)\n",
    "        loss = criterion(output, target_sequence)\n",
    "        loss.backward()\n",
    "        optimizer.step()\n",
    "        total_loss += loss.item()\n",
    "    print(f\"Epoch {epoch}, Loss: {total_loss / len(data_loader)}\")\n"
   ]
  },
  {
   "cell_type": "markdown",
   "id": "d6dc8df6-5267-4888-bc5a-e5e942331b79",
   "metadata": {},
   "source": [
    "## Load trained LC-PFN model"
   ]
  },
  {
   "cell_type": "code",
   "execution_count": 21,
   "id": "e4188fdb-4a1e-4508-9530-8d2448e238cb",
   "metadata": {
    "pycharm": {
     "is_executing": true
    }
   },
   "outputs": [],
   "source": [
    "model = lcpfn.LCPFN()"
   ]
  },
  {
   "cell_type": "markdown",
   "id": "03d80175-5f10-404a-85ce-59505f043691",
   "metadata": {},
   "source": [
    "## Generate a learning curve from the prior"
   ]
  },
  {
   "cell_type": "code",
   "execution_count": 22,
   "id": "414fe267",
   "metadata": {
    "collapsed": false,
    "jupyter": {
     "outputs_hidden": false
    }
   },
   "outputs": [
    {
     "name": "stdout",
     "output_type": "stream",
     "text": [
      "test\n"
     ]
    }
   ],
   "source": [
    "print(\"test\")"
   ]
  },
  {
   "cell_type": "code",
   "execution_count": 23,
   "id": "fafc60aa-0681-494f-9be3-09b40e1495ad",
   "metadata": {
    "pycharm": {
     "is_executing": true
    }
   },
   "outputs": [
    {
     "data": {
      "text/plain": [
       "(0.0, 1.0)"
      ]
     },
     "execution_count": 23,
     "metadata": {},
     "output_type": "execute_result"
    },
    {
     "data": {
      "image/png": "[encoded data removed]",
      "text/plain": [
       "<Figure size 640x480 with 1 Axes>"
      ]
     },
     "metadata": {},
     "output_type": "display_data"
    }
   ],
   "source": [
    "prior = lcpfn.sample_from_prior(np.random)\n",
    "curve, _ = prior()\n",
    "plt.plot(curve, \"black\")\n",
    "plt.ylim(0, 1)"
   ]
  },
  {
   "cell_type": "markdown",
   "id": "18d1ceef-30a8-47c7-9754-ed7bf194cd37",
   "metadata": {},
   "source": [
    "## Extrapolate the learning curve with a cutoff of 10% "
   ]
  },
  {
   "cell_type": "code",
   "execution_count": 24,
   "id": "3610482a-5e21-4109-a3b3-16d937e26cd9",
   "metadata": {},
   "outputs": [],
   "source": [
    "# construct \n",
    "\n",
    "x = torch.arange(1, 101).unsqueeze(1)\n",
    "y = torch.from_numpy(curve).float().unsqueeze(1)\n",
    "cutoff = 10"
   ]
  },
  {
   "cell_type": "code",
   "execution_count": 25,
   "id": "31d375db-ec12-41d0-86b7-0ceffebdd908",
   "metadata": {},
   "outputs": [],
   "source": [
    "predictions = model.predict_quantiles(x_train=x[:cutoff], y_train=y[:cutoff], x_test=x[cutoff:], qs=[0.05, 0.5, 0.95])"
   ]
  },
  {
   "cell_type": "code",
   "execution_count": 26,
   "id": "e96900b1-c844-4540-9d9c-183429c525f1",
   "metadata": {},
   "outputs": [
    {
     "data": {
      "text/plain": [
       "<matplotlib.legend.Legend at 0x214052e2940>"
      ]
     },
     "execution_count": 26,
     "metadata": {},
     "output_type": "execute_result"
    },
    {
     "data": {
      "image/png": "[encoded data removed]",
      "text/plain": [
       "<Figure size 640x480 with 1 Axes>"
      ]
     },
     "metadata": {},
     "output_type": "display_data"
    }
   ],
   "source": [
    "# plot data\n",
    "plt.plot(curve, \"black\", label=\"target\")\n",
    "\n",
    "# plot extrapolation\n",
    "plt.plot(x[cutoff:], predictions[:, 1], \"blue\", label=\"Extrapolation by PFN\")\n",
    "plt.fill_between(\n",
    "        x[cutoff:].flatten(), predictions[:, 0], predictions[:, 2], color=\"blue\", alpha=0.2, label=\"CI of 90%\"\n",
    ")\n",
    "\n",
    "# plot cutoff\n",
    "plt.vlines(cutoff, 0, 1, linewidth=0.5, color=\"k\", label=\"cutoff\")\n",
    "plt.ylim(0, 1)\n",
    "plt.legend(loc=\"lower right\")"
   ]
  },
  {
   "cell_type": "code",
   "execution_count": null,
   "id": "d748b6ff-d202-44e7-9894-edfb1051f6cf",
   "metadata": {},
   "outputs": [],
   "source": []
  }
 ],
 "metadata": {
  "kernelspec": {
   "display_name": "Python 3 (ipykernel)",
   "language": "python",
   "name": "python3"
  },
  "language_info": {
   "codemirror_mode": {
    "name": "ipython",
    "version": 3
   },
   "file_extension": ".py",
   "mimetype": "text/x-python",
   "name": "python",
   "nbconvert_exporter": "python",
   "pygments_lexer": "ipython3",
   "version": "3.9.19"
  }
 },
 "nbformat": 4,
 "nbformat_minor": 5
}
